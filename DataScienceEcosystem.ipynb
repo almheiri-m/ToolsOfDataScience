{
 "cells": [
  {
   "cell_type": "markdown",
   "id": "d49cbf52-a655-4575-b1fe-b692ce94e48d",
   "metadata": {},
   "source": [
    "# ***Data Science Tools and Ecosystem***"
   ]
  },
  {
   "cell_type": "markdown",
   "id": "4e6283ac-5aeb-4d14-8837-81e84ab393f1",
   "metadata": {},
   "source": [
    "this notebook summarizes data science tools and ecosystem"
   ]
  },
  {
   "cell_type": "markdown",
   "id": "ea207c0c-9467-429b-a8a4-9b247f9ae222",
   "metadata": {},
   "source": [
    "**Objectives:**\n",
    "- List popular data science languages\n",
    "- List popular data science libraries\n",
    "- List popular data science development tools\n",
    "- Show examples of arithmetic expressions in Python"
   ]
  },
  {
   "cell_type": "markdown",
   "id": "46d0d48a-a133-44ba-b815-85a9c16f7fe2",
   "metadata": {},
   "source": [
    "Some of the popular languages data scientists use are as follows:\n",
    "1. Python\n",
    "2. R\n",
    "3. SQL"
   ]
  },
  {
   "cell_type": "markdown",
   "id": "72bf53e7-d3b5-4b07-b8ca-8427b63eedab",
   "metadata": {},
   "source": [
    "Some of the most popular libraries utilized by data scientists are as follows:\n",
    "1. Matplotlib\n",
    "2. TensorFlow\n",
    "3. Numpy\n",
    "4. Pandas\n",
    "5. SciKit-Learn"
   ]
  },
  {
   "cell_type": "markdown",
   "id": "77bc29f6-b815-43a3-8ab7-2fce2b312cc5",
   "metadata": {},
   "source": [
    "| Data Science Tools |\n",
    "| :--- |\n",
    "| Jupyter Notebook |\n",
    "| RStudio |\n",
    "| Apache Spark |"
   ]
  },
  {
   "cell_type": "markdown",
   "id": "4b745bf2-2558-408a-a560-81400fbb757e",
   "metadata": {},
   "source": [
    "\n",
    "### The following is a number of examples of utilizing Python to evaluate arithmetic expressions:"
   ]
  },
  {
   "cell_type": "code",
   "execution_count": 5,
   "id": "c1261a9e-f8d2-41b2-9f37-0f2f0c0f5069",
   "metadata": {},
   "outputs": [
    {
     "name": "stdout",
     "output_type": "stream",
     "text": [
      "17\n"
     ]
    }
   ],
   "source": [
    "# The following is a simple arithmetic expression to multiply and add integers\n",
    "x = (3*4) + 5\n",
    "print(x)"
   ]
  },
  {
   "cell_type": "code",
   "execution_count": 11,
   "id": "90d2f916-b9c6-4bf2-b9a0-bf0e29b5f84b",
   "metadata": {},
   "outputs": [
    {
     "name": "stdout",
     "output_type": "stream",
     "text": [
      "3.3333333333333335\n"
     ]
    }
   ],
   "source": [
    "# the following is a simple code segment to convert minutes to hours using division arithmetic\n",
    "mins = 200\n",
    "hrs = mins / 60\n",
    "print(hrs)"
   ]
  },
  {
   "cell_type": "markdown",
   "id": "611679d7-c83e-49a4-a474-876e9cad4009",
   "metadata": {},
   "source": [
    "## Author :"
   ]
  },
  {
   "cell_type": "markdown",
   "id": "8586db29-091a-45be-b6d3-1216f13f0f1b",
   "metadata": {},
   "source": [
    "Mohammad Almheiri"
   ]
  }
 ],
 "metadata": {
  "kernelspec": {
   "display_name": "Python 3 (ipykernel)",
   "language": "python",
   "name": "python3"
  },
  "language_info": {
   "codemirror_mode": {
    "name": "ipython",
    "version": 3
   },
   "file_extension": ".py",
   "mimetype": "text/x-python",
   "name": "python",
   "nbconvert_exporter": "python",
   "pygments_lexer": "ipython3",
   "version": "3.11.7"
  }
 },
 "nbformat": 4,
 "nbformat_minor": 5
}
